{
  "nbformat": 4,
  "nbformat_minor": 0,
  "metadata": {
    "colab": {
      "provenance": []
    },
    "kernelspec": {
      "name": "python3",
      "display_name": "Python 3"
    },
    "language_info": {
      "name": "python"
    }
  },
  "cells": [
    {
      "cell_type": "code",
      "execution_count": null,
      "metadata": {
        "id": "37S1ZlyYM8Wp"
      },
      "outputs": [],
      "source": [
        "from google.colab import drive\n",
        "drive.mount('/content/drive')"
      ]
    },
    {
      "cell_type": "markdown",
      "source": [
        "# **Import Package**"
      ],
      "metadata": {
        "id": "TFLXe4LWN3t3"
      }
    },
    {
      "cell_type": "code",
      "source": [
        "import pandas as pd\n",
        "import matplotlib.pyplot as plt\n",
        "import seaborn as sns\n",
        "from sklearn.preprocessing import StandardScaler, LabelEncoder\n",
        "from sklearn.model_selection import train_test_split"
      ],
      "metadata": {
        "id": "bApdOIOmN55A"
      },
      "execution_count": 1,
      "outputs": []
    },
    {
      "cell_type": "markdown",
      "source": [
        "# Load the Dataset\n"
      ],
      "metadata": {
        "id": "iQfcD8pYORLO"
      }
    },
    {
      "cell_type": "code",
      "source": [
        "# Load the CSV files into DataFrames\n",
        "fundamentals_df = pd.read_csv('/content/drive/MyDrive/NYSE_Dataset/fundamentals.csv')\n",
        "prices_split_adjusted_df = pd.read_csv('/content/drive/MyDrive/NYSE_Dataset/prices-split-adjusted.csv')\n",
        "prices_df = pd.read_csv('/content/drive/MyDrive/NYSE_Dataset/prices.csv')\n",
        "securities_df = pd.read_csv('/content/drive/MyDrive/NYSE_Dataset/securities.csv')\n"
      ],
      "metadata": {
        "id": "b0cEzFPCOW9h"
      },
      "execution_count": null,
      "outputs": []
    },
    {
      "cell_type": "markdown",
      "source": [
        "# Display the first few rows of each DataFrame"
      ],
      "metadata": {
        "id": "NM7s5NOcOdpa"
      }
    },
    {
      "cell_type": "code",
      "source": [
        "print(\"Fundamentals DataFrame:\")\n",
        "fundamentals_df.head()"
      ],
      "metadata": {
        "id": "jSije1QzOkn-"
      },
      "execution_count": null,
      "outputs": []
    },
    {
      "cell_type": "code",
      "source": [
        "print(\"\\nPrices Split Adjusted DataFrame:\")\n",
        "prices_split_adjusted_df.head()"
      ],
      "metadata": {
        "id": "0bvR9btXQAY7"
      },
      "execution_count": null,
      "outputs": []
    },
    {
      "cell_type": "code",
      "source": [
        "print(\"\\nPrices DataFrame:\")\n",
        "prices_df.head()"
      ],
      "metadata": {
        "id": "rSw-d3XoQOR-"
      },
      "execution_count": null,
      "outputs": []
    },
    {
      "cell_type": "code",
      "source": [
        "print(\"\\nSecurities DataFrame:\")\n",
        "securities_df.head()"
      ],
      "metadata": {
        "id": "ooPnGLW6QPdL"
      },
      "execution_count": null,
      "outputs": []
    },
    {
      "cell_type": "markdown",
      "source": [
        "#Inspect the Data"
      ],
      "metadata": {
        "id": "0bWELycCQifb"
      }
    },
    {
      "cell_type": "code",
      "source": [
        "print(\"\\nFundamentals DataFrame Info:\")\n",
        "fundamentals_df.info()"
      ],
      "metadata": {
        "id": "2z98ClpDQnN5"
      },
      "execution_count": null,
      "outputs": []
    },
    {
      "cell_type": "code",
      "source": [
        "print(\"\\nPrices Split Adjusted DataFrame Info:\")\n",
        "prices_split_adjusted_df.info()"
      ],
      "metadata": {
        "id": "SjcfI-RwQ2fg"
      },
      "execution_count": null,
      "outputs": []
    },
    {
      "cell_type": "code",
      "source": [
        "print(\"\\nPrices DataFrame Info:\")\n",
        "prices_df.info()"
      ],
      "metadata": {
        "id": "1QSFF2XUQ9vL"
      },
      "execution_count": null,
      "outputs": []
    },
    {
      "cell_type": "code",
      "source": [
        "print(\"\\nSecurities DataFrame Info:\")\n",
        "securities_df.info()"
      ],
      "metadata": {
        "id": "LuCWnpG5Q_Xb"
      },
      "execution_count": null,
      "outputs": []
    },
    {
      "cell_type": "markdown",
      "source": [
        "# Summary statistics"
      ],
      "metadata": {
        "id": "ERwjvOT4RcZw"
      }
    },
    {
      "cell_type": "code",
      "source": [
        "print(\"\\nFundamentals DataFrame Description:\")\n",
        "fundamentals_df.describe()"
      ],
      "metadata": {
        "id": "oUgUOVB5RsTo"
      },
      "execution_count": null,
      "outputs": []
    },
    {
      "cell_type": "code",
      "source": [
        "print(\"\\nPrices Split Adjusted DataFrame Description:\")\n",
        "prices_split_adjusted_df.describe()"
      ],
      "metadata": {
        "id": "yTo4m5R3RxYB"
      },
      "execution_count": null,
      "outputs": []
    },
    {
      "cell_type": "code",
      "source": [
        "print(\"\\nPrices DataFrame Description:\")\n",
        "prices_df.describe()"
      ],
      "metadata": {
        "id": "RCCmBWdVR3Tu"
      },
      "execution_count": null,
      "outputs": []
    },
    {
      "cell_type": "code",
      "source": [
        "print(\"\\nSecurities DataFrame Description:\")\n",
        "securities_df.describe()"
      ],
      "metadata": {
        "id": "3Y3hph4iR7p3"
      },
      "execution_count": null,
      "outputs": []
    },
    {
      "cell_type": "code",
      "source": [
        "prices_df"
      ],
      "metadata": {
        "id": "0CnViwieSGAA"
      },
      "execution_count": null,
      "outputs": []
    }
  ]
}