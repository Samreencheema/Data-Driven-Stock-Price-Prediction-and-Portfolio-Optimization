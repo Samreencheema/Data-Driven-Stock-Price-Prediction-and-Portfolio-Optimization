{
  "nbformat": 4,
  "nbformat_minor": 0,
  "metadata": {
    "colab": {
      "provenance": []
    },
    "kernelspec": {
      "name": "python3",
      "display_name": "Python 3"
    },
    "language_info": {
      "name": "python"
    }
  },
  "cells": [
    {
      "cell_type": "markdown",
      "source": [
        "# Sector Distribution"
      ],
      "metadata": {
        "id": "8JyXUbMjTY2t"
      }
    },
    {
      "cell_type": "code",
      "source": [
        "plt.figure(figsize=(12, 6))\n",
        "sns.countplot(y='GICS Sector', data=securities_df, order=securities_df['GICS Sector'].value_counts().index)\n",
        "plt.title('Number of Companies by Sector')\n",
        "plt.xlabel('Number of Companies')\n",
        "plt.ylabel('Sector')\n",
        "plt.show()\n"
      ],
      "metadata": {
        "id": "CnrPkHPFTcj4"
      },
      "execution_count": null,
      "outputs": []
    },
    {
      "cell_type": "markdown",
      "source": [
        "# Merge Datasets"
      ],
      "metadata": {
        "id": "3e84OfeMTtY7"
      }
    },
    {
      "cell_type": "code",
      "source": [
        "# Merge prices and prices_split_adjusted on 'symbol' and 'date'\n",
        "merged_prices = pd.merge(prices_df, prices_split_adjusted_df, on=['symbol', 'date'], suffixes=('', '_adjusted'))\n",
        "\n",
        "# Merge with securities on 'symbol' and 'Ticker symbol'\n",
        "merged_data = pd.merge(merged_prices, securities_df, left_on='symbol', right_on='Ticker symbol')\n",
        "\n",
        "# Merge with fundamentals on 'symbol' and 'Ticker symbol'\n",
        "merged_data = pd.merge(merged_prices, fundamentals_df, left_on='symbol', right_on='Ticker Symbol')\n"
      ],
      "metadata": {
        "id": "S-PxVZmeT_P6"
      },
      "execution_count": null,
      "outputs": []
    },
    {
      "cell_type": "markdown",
      "source": [
        "#Distribution of Adjusted and Unadjusted Closing Prices"
      ],
      "metadata": {
        "id": "5aTPrN0WUEN4"
      }
    },
    {
      "cell_type": "code",
      "source": [
        "# Set plot style\n",
        "sns.set(style=\"whitegrid\")\n",
        "\n",
        "# Distribution of Adjusted and Unadjusted Closing Prices\n",
        "plt.figure(figsize=(14, 6))\n",
        "plt.subplot(1, 2, 1)\n",
        "sns.histplot(merged_data['close'], bins=50, kde=True)\n",
        "plt.title('Distribution of Unadjusted Closing Prices')\n",
        "\n",
        "plt.subplot(1, 2, 2)\n",
        "sns.histplot(merged_data['close_adjusted'], bins=50, kde=True)\n",
        "plt.title('Distribution of Adjusted Closing Prices')\n",
        "plt.show()\n"
      ],
      "metadata": {
        "id": "-E-nyh97UI9L"
      },
      "execution_count": null,
      "outputs": []
    },
    {
      "cell_type": "markdown",
      "source": [
        "# Trends Over Time for Adjusted vs. Unadjusted Prices"
      ],
      "metadata": {
        "id": "BCOYJpJZUdd0"
      }
    },
    {
      "cell_type": "code",
      "source": [
        "# Select a few symbols for demonstration\n",
        "symbols_to_plot = ['AAPL', 'MSFT', 'GOOGL']  # Example symbols\n",
        "plt.figure(figsize=(14, 8))\n",
        "\n",
        "for symbol in symbols_to_plot:\n",
        "    subset = merged_data[merged_data['symbol'] == symbol]\n",
        "    plt.plot(subset['date'], subset['close'], label=f'{symbol} - Unadjusted')\n",
        "    plt.plot(subset['date'], subset['close_adjusted'], label=f'{symbol} - Adjusted', linestyle='--')\n",
        "\n",
        "plt.title('Historical Price Trends (Adjusted vs. Unadjusted)')\n",
        "plt.xlabel('Date')\n",
        "plt.ylabel('Closing Price')\n",
        "plt.legend()\n",
        "plt.show()\n"
      ],
      "metadata": {
        "id": "t-PT8InrUmGN"
      },
      "execution_count": null,
      "outputs": []
    },
    {
      "cell_type": "markdown",
      "source": [
        "# Correlation Matrix"
      ],
      "metadata": {
        "id": "UXKHOJ2vUw0H"
      }
    },
    {
      "cell_type": "code",
      "source": [
        "# Exclude 'symbol' and 'date' columns from correlation calculation\n",
        "cols_to_exclude = ['symbol', 'date', 'Ticker Symbol', \"For Year\", \"Period Ending\", \"Unnamed: 0\"]\n",
        "cols_to_include = [col for col in merged_data.columns if col not in cols_to_exclude]\n",
        "corr_matrix = merged_data[cols_to_include].corr()\n"
      ],
      "metadata": {
        "id": "MEY9c9NHUxxz"
      },
      "execution_count": null,
      "outputs": []
    },
    {
      "cell_type": "code",
      "source": [
        "# Here's a subset of relevant columns based on the correlation matrix you've shown\n",
        "relevant_columns = ['open','open_adjusted','close', 'close_adjusted', 'high','high_adjusted', 'low','low_adjusted', 'volume', \"volume_adjusted\", 'Earnings Per Share']\n",
        "\n",
        "# Subset the correlation matrix\n",
        "relevant_corr_matrix = corr_matrix.loc[relevant_columns, relevant_columns]\n",
        "\n",
        "# Plotting the heatmap for relevant correlations\n",
        "plt.figure(figsize=(10, 8))\n",
        "sns.heatmap(relevant_corr_matrix, annot=True, cmap='coolwarm', fmt='.2f', linewidths=0.5)\n",
        "plt.title('Correlation Heatmap of Key Variables for Stock Price Prediction')\n",
        "plt.show()\n"
      ],
      "metadata": {
        "id": "3rBr8LAwU1fe"
      },
      "execution_count": null,
      "outputs": []
    },
    {
      "cell_type": "markdown",
      "source": [
        "## Pre-processing"
      ],
      "metadata": {
        "id": "Hz_fSlSvU9OW"
      }
    },
    {
      "cell_type": "markdown",
      "source": [
        "## Feature Selection"
      ],
      "metadata": {
        "id": "OYYBWv5tVFxC"
      }
    },
    {
      "cell_type": "code",
      "source": [
        "# Selecting initial important features\n",
        "initial_features = [\n",
        "    'date', 'symbol', 'open', 'close','low', 'high', 'volume',\n",
        "    'Earnings Before Interest and Tax', 'Net Income', 'Operating Income', 'Gross Profit',\n",
        "    'Profit Margin', 'Gross Margin', 'Operating Margin', 'Pre-Tax Margin', 'After Tax ROE',\n",
        "    'Earnings Per Share', 'Current Ratio', 'Quick Ratio', 'Cash Ratio', 'Long-Term Debt',\n",
        "    'Short-Term Debt / Current Portion of Long-Term Debt', 'Total Liabilities', 'Total Equity',\n",
        "    'Net Cash Flow', 'Net Cash Flow-Operating', 'Net Cash Flows-Financing',\n",
        "    'Net Cash Flows-Investing', 'Estimated Shares Outstanding', 'Sale and Purchase of Stock'\n",
        "]\n",
        "\n",
        "# Drop rows with missing values in the selected features\n",
        "df_sf = merged_data[initial_features].dropna()\n",
        "\n",
        "# Convert 'date' column to datetime if not already done\n",
        "df_sf['date'] = pd.to_datetime(df_sf['date'])\n",
        "\n",
        "# Check the updated dataframe\n",
        "df_sf"
      ],
      "metadata": {
        "id": "9PtYWyXZVGnx"
      },
      "execution_count": null,
      "outputs": []
    },
    {
      "cell_type": "code",
      "source": [
        "# Resample to monthly data for each symbol\n",
        "df_monthly = df_sf.groupby(['symbol', pd.Grouper(key='date', freq='M')]).agg({\n",
        "    'open': 'first',\n",
        "    'close': 'last',\n",
        "    'low': 'min',\n",
        "    'high': 'max',\n",
        "    'volume': 'sum',\n",
        "    'Earnings Before Interest and Tax': 'mean',\n",
        "    'Net Income': 'mean',\n",
        "    'Operating Income': 'mean',\n",
        "    'Gross Profit': 'mean',\n",
        "    'Profit Margin': 'mean',\n",
        "    'Gross Margin': 'mean',\n",
        "    'Operating Margin': 'mean',\n",
        "    'Pre-Tax Margin': 'mean',\n",
        "    'After Tax ROE': 'mean',\n",
        "    'Earnings Per Share': 'mean',\n",
        "    'Current Ratio': 'mean',\n",
        "    'Quick Ratio': 'mean',\n",
        "    'Cash Ratio': 'mean',\n",
        "    'Long-Term Debt': 'mean',\n",
        "    'Short-Term Debt / Current Portion of Long-Term Debt': 'mean',\n",
        "    'Total Liabilities': 'mean',\n",
        "    'Total Equity': 'mean',\n",
        "    'Net Cash Flow': 'mean',\n",
        "    'Net Cash Flow-Operating': 'mean',\n",
        "    'Net Cash Flows-Financing': 'mean',\n",
        "    'Net Cash Flows-Investing': 'mean',\n",
        "    'Estimated Shares Outstanding': 'mean',\n",
        "    'Sale and Purchase of Stock': 'mean'\n",
        "}).reset_index()\n",
        "\n",
        "df_monthly\n"
      ],
      "metadata": {
        "id": "MZHANp0BVMRC"
      },
      "execution_count": null,
      "outputs": []
    }
  ]
}